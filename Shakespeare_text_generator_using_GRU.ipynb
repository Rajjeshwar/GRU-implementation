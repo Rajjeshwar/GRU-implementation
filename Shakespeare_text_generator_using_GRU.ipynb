{
 "cells": [
  {
   "cell_type": "markdown",
   "metadata": {
    "id": "5XbZZTO5pOKQ"
   },
   "source": [
    "# Import modules"
   ]
  },
  {
   "cell_type": "code",
   "execution_count": 1,
   "metadata": {
    "id": "BVqSDkZLpOKT"
   },
   "outputs": [],
   "source": [
    "import tensorflow as tf\n",
    "import string\n",
    "import requests\n",
    "import numpy as np\n",
    "\n",
    "import matplotlib.pyplot as plt\n",
    "\n",
    "import sklearn as sk\n",
    "from sklearn.model_selection import train_test_split\n",
    "\n",
    "from tensorflow.keras.preprocessing.text import Tokenizer\n",
    "from tensorflow.keras.initializers import GlorotNormal\n",
    "from tensorflow.keras.preprocessing.sequence import pad_sequences\n",
    "from tensorflow.keras.utils import to_categorical\n",
    "from tensorflow.keras.models import Sequential\n",
    "from tensorflow.keras.layers import Dense, GRU, Embedding, LSTM, Dropout"
   ]
  },
  {
   "cell_type": "markdown",
   "metadata": {
    "id": "TUsDALxZpOKU"
   },
   "source": [
    "# Prepare data"
   ]
  },
  {
   "cell_type": "code",
   "execution_count": 2,
   "metadata": {
    "id": "CDFU2Dm1fzv5"
   },
   "outputs": [],
   "source": [
    "def scrape_text_data():\n",
    "    response = requests.get(\n",
    "        \"https://ocw.mit.edu/ans7870/6/6.006/s08/lecturenotes/files/t8.shakespeare.txt\"\n",
    "    )\n",
    "    return response"
   ]
  },
  {
   "cell_type": "code",
   "execution_count": 3,
   "metadata": {
    "id": "tXUX-Fl2hr0d"
   },
   "outputs": [],
   "source": [
    "response = scrape_text_data()"
   ]
  },
  {
   "cell_type": "code",
   "execution_count": null,
   "metadata": {
    "colab": {
     "base_uri": "https://localhost:8080/",
     "height": 103
    },
    "id": "r6D4j7jgh0Hq",
    "outputId": "9189817c-cb1f-47f6-f712-b3b59f17f6b6"
   },
   "outputs": [],
   "source": [
    "response.text"
   ]
  },
  {
   "cell_type": "code",
   "execution_count": 5,
   "metadata": {
    "colab": {
     "base_uri": "https://localhost:8080/"
    },
    "id": "VURdckzPVtSn",
    "outputId": "00d6de4e-f88d-44ea-dd2e-4337923bfa2c"
   },
   "outputs": [
    {
     "data": {
      "text/plain": [
       "str"
      ]
     },
     "execution_count": 5,
     "metadata": {},
     "output_type": "execute_result"
    }
   ],
   "source": [
    "type(response.text)"
   ]
  },
  {
   "cell_type": "markdown",
   "metadata": {
    "id": "-WREHt3PVw0d"
   },
   "source": [
    "In this step, we get rid of the `\\n` qualifier, and join it using separate lines."
   ]
  },
  {
   "cell_type": "code",
   "execution_count": 6,
   "metadata": {
    "id": "cfOGWUsDWFBh"
   },
   "outputs": [],
   "source": [
    "def format_text(response):\n",
    "    data = response.text.split(\"\\n\")[0:]\n",
    "    data = \"\".join(data)\n",
    "    return data"
   ]
  },
  {
   "cell_type": "code",
   "execution_count": 8,
   "metadata": {
    "id": "YMDbL3NKlEuB"
   },
   "outputs": [],
   "source": [
    "data = format_text(response)"
   ]
  },
  {
   "cell_type": "code",
   "execution_count": 9,
   "metadata": {
    "colab": {
     "base_uri": "https://localhost:8080/"
    },
    "id": "gRU3Cl82lK4C",
    "outputId": "32d512b0-db89-4e1a-929d-9428267a3ddf"
   },
   "outputs": [
    {
     "data": {
      "text/plain": [
       "5333743"
      ]
     },
     "execution_count": 9,
     "metadata": {},
     "output_type": "execute_result"
    }
   ],
   "source": [
    "len(data)"
   ]
  },
  {
   "cell_type": "code",
   "execution_count": null,
   "metadata": {
    "colab": {
     "base_uri": "https://localhost:8080/",
     "height": 103
    },
    "id": "YganlwBdmV1f",
    "outputId": "a3fa546d-4799-486d-d5c6-afb853c2df3e"
   },
   "outputs": [],
   "source": [
    "data"
   ]
  },
  {
   "cell_type": "code",
   "execution_count": 11,
   "metadata": {
    "colab": {
     "base_uri": "https://localhost:8080/",
     "height": 35
    },
    "id": "CexZfCa2WOt7",
    "outputId": "f68e7324-2405-4f64-d88a-4f71fad2e550"
   },
   "outputs": [
    {
     "data": {
      "application/vnd.google.colaboratory.intrinsic+json": {
       "type": "string"
      },
      "text/plain": [
       "'h'"
      ]
     },
     "execution_count": 11,
     "metadata": {},
     "output_type": "execute_result"
    }
   ],
   "source": [
    "data[1]"
   ]
  },
  {
   "cell_type": "code",
   "execution_count": 12,
   "metadata": {
    "id": "1UQHHXucpOKY"
   },
   "outputs": [],
   "source": [
    "def filter_text(corpus):\n",
    "    token = corpus.split()\n",
    "    table = str.maketrans(\"\", \"\", string.punctuation)\n",
    "    token = [word.translate(table) for word in token]\n",
    "    # saving only alphanumeric\n",
    "    token = [word for word in token if word.isalpha()]\n",
    "    token = [word.lower() for word in token]\n",
    "    return token"
   ]
  },
  {
   "cell_type": "code",
   "execution_count": 13,
   "metadata": {
    "id": "ToSocdtqpOKY"
   },
   "outputs": [],
   "source": [
    "tokens = filter_text(data)"
   ]
  },
  {
   "cell_type": "markdown",
   "metadata": {
    "id": "dyl14pY4oqAM"
   },
   "source": [
    "## Visualize tokens\n"
   ]
  },
  {
   "cell_type": "code",
   "execution_count": 14,
   "metadata": {
    "colab": {
     "base_uri": "https://localhost:8080/"
    },
    "id": "BUosQ09gpOKZ",
    "outputId": "ae713eff-88bc-4b2e-ad44-922a46e9fd84"
   },
   "outputs": [
    {
     "name": "stdout",
     "output_type": "stream",
     "text": [
      "['this', 'is', 'the', 'etext', 'file', 'presented', 'by', 'project', 'gutenberg', 'andis', 'presented', 'in', 'cooperation', 'with', 'world', 'library', 'inc', 'from', 'theirlibrary', 'of']\n"
     ]
    }
   ],
   "source": [
    "print(tokens[:20])"
   ]
  },
  {
   "cell_type": "code",
   "execution_count": 15,
   "metadata": {
    "colab": {
     "base_uri": "https://localhost:8080/"
    },
    "id": "KTaeXDrLpOKZ",
    "outputId": "2ff73225-643f-4c6c-90a5-f77db25b4b3b"
   },
   "outputs": [
    {
     "data": {
      "text/plain": [
       "894651"
      ]
     },
     "execution_count": 15,
     "metadata": {},
     "output_type": "execute_result"
    }
   ],
   "source": [
    "len(tokens)"
   ]
  },
  {
   "cell_type": "code",
   "execution_count": 16,
   "metadata": {
    "colab": {
     "base_uri": "https://localhost:8080/"
    },
    "id": "NeXDxs_FpOKZ",
    "outputId": "827b1be2-b062-4576-871d-8ff4abaf022f"
   },
   "outputs": [
    {
     "data": {
      "text/plain": [
       "29511"
      ]
     },
     "execution_count": 16,
     "metadata": {},
     "output_type": "execute_result"
    }
   ],
   "source": [
    "# calclate vector size from corpus \n",
    "len(set(tokens))"
   ]
  },
  {
   "cell_type": "code",
   "execution_count": 17,
   "metadata": {
    "id": "fQrLZOiDpdg9"
   },
   "outputs": [],
   "source": [
    "def set_seed_length(tokens):\n",
    "    seed_sequence_length = 50\n",
    "    lines = []\n",
    "    for i in range(seed_sequence_length + 1, len(tokens)):\n",
    "        seq = tokens[i - (seed_sequence_length + 1) : i]\n",
    "        line = \" \".join(seq)\n",
    "        lines.append(line)\n",
    "        if i > 2 * 10 ** 5:\n",
    "            break\n",
    "    return lines, seed_sequence_length"
   ]
  },
  {
   "cell_type": "code",
   "execution_count": 18,
   "metadata": {
    "id": "90yfR16Srdo0"
   },
   "outputs": [],
   "source": [
    "lines, seed_sequence_length = set_seed_length(tokens)"
   ]
  },
  {
   "cell_type": "code",
   "execution_count": 19,
   "metadata": {
    "colab": {
     "base_uri": "https://localhost:8080/"
    },
    "id": "d_aNI-TRpOKa",
    "outputId": "5b9ffbe2-e128-464e-e4f3-dd68d6998900"
   },
   "outputs": [
    {
     "name": "stdout",
     "output_type": "stream",
     "text": [
      "199951\n"
     ]
    }
   ],
   "source": [
    "print(len(lines))"
   ]
  },
  {
   "cell_type": "code",
   "execution_count": 20,
   "metadata": {
    "colab": {
     "base_uri": "https://localhost:8080/"
    },
    "id": "bE0uoCCBpOKa",
    "outputId": "2d917209-ea35-48e7-fc84-303858e1e0e2"
   },
   "outputs": [
    {
     "data": {
      "text/plain": [
       "359"
      ]
     },
     "execution_count": 20,
     "metadata": {},
     "output_type": "execute_result"
    }
   ],
   "source": [
    "len(lines[0])"
   ]
  },
  {
   "cell_type": "markdown",
   "metadata": {
    "id": "Qlb_lRMKpOKa"
   },
   "source": [
    "# Preprocessing "
   ]
  },
  {
   "cell_type": "code",
   "execution_count": 21,
   "metadata": {
    "id": "FyU6u00hpOKa"
   },
   "outputs": [],
   "source": [
    "def vocabulary_tokenizer(lines):\n",
    "    tokenizer = Tokenizer()\n",
    "    tokenizer.fit_on_texts(lines)\n",
    "    sequences = tokenizer.texts_to_sequences(lines)\n",
    "    return sequences, tokenizer"
   ]
  },
  {
   "cell_type": "code",
   "execution_count": null,
   "metadata": {
    "colab": {
     "base_uri": "https://localhost:8080/"
    },
    "id": "TMlte6ZvpOKb",
    "outputId": "b5f55285-a73c-4bf1-947d-dd785ae1641f"
   },
   "outputs": [],
   "source": [
    "sequences[1]"
   ]
  },
  {
   "cell_type": "code",
   "execution_count": null,
   "metadata": {
    "colab": {
     "base_uri": "https://localhost:8080/"
    },
    "id": "rSOgw9IepOKb",
    "outputId": "7023f9f9-ea44-4000-c549-7984f5ba3ad2"
   },
   "outputs": [],
   "source": [
    "tokenizer.word_index"
   ]
  },
  {
   "cell_type": "code",
   "execution_count": 24,
   "metadata": {
    "colab": {
     "base_uri": "https://localhost:8080/"
    },
    "id": "bDhqcvtDpOKb",
    "outputId": "5a716ec7-f45e-400e-9cd9-6f1fcd1e8319"
   },
   "outputs": [
    {
     "data": {
      "text/plain": [
       "13983"
      ]
     },
     "execution_count": 24,
     "metadata": {},
     "output_type": "execute_result"
    }
   ],
   "source": [
    "len(tokenizer.word_index)"
   ]
  },
  {
   "cell_type": "code",
   "execution_count": 25,
   "metadata": {
    "id": "Jp5dvV4BpOKb"
   },
   "outputs": [],
   "source": [
    "vocabulary_length = len(tokenizer.word_index) + 1 #0 indexed"
   ]
  },
  {
   "cell_type": "code",
   "execution_count": 26,
   "metadata": {
    "colab": {
     "base_uri": "https://localhost:8080/"
    },
    "id": "a0_0AgnhpOKb",
    "outputId": "fa5ed2ba-4c99-49f2-c5fa-43d67f5d82a4"
   },
   "outputs": [
    {
     "name": "stdout",
     "output_type": "stream",
     "text": [
      "199951\n"
     ]
    }
   ],
   "source": [
    "print(len(sequences))"
   ]
  },
  {
   "cell_type": "code",
   "execution_count": 27,
   "metadata": {
    "id": "QY5QmRJwpOKb"
   },
   "outputs": [],
   "source": [
    "def create_train_test(sequences, vocabulary_length):\n",
    "    sequences = np.array(sequences)\n",
    "    X, Y = sequences[:, :-1], sequences[:, -1]\n",
    "    Y = to_categorical(Y, vocabulary_length)\n",
    "    X_train, X_val, Y_train, Y_val = train_test_split(X, Y, test_size=0.2)\n",
    "    X_val, X_test, Y_val, Y_test = train_test_split(X_val, Y_val, test_size=0.5)\n",
    "    return X_train, X_val, X_test, Y_train, Y_val, Y_test"
   ]
  },
  {
   "cell_type": "code",
   "execution_count": 28,
   "metadata": {
    "id": "fmtFILLBNmqq"
   },
   "outputs": [],
   "source": [
    "X_train, X_val, X_test, Y_train, Y_val, Y_test = create_train_test(sequences, vocabulary_length)"
   ]
  },
  {
   "cell_type": "markdown",
   "metadata": {
    "id": "2oPNJGTBpOKd"
   },
   "source": [
    "# Model"
   ]
  },
  {
   "cell_type": "code",
   "execution_count": 29,
   "metadata": {
    "id": "5NWMbg3LpOKd"
   },
   "outputs": [],
   "source": [
    "def GRU_model():\n",
    "    model = Sequential()\n",
    "    model.add(Embedding(vocabulary_length, 50, input_length=X_train.shape[-1]))\n",
    "    model.add(\n",
    "        GRU(\n",
    "            128,\n",
    "            dropout=0.2,\n",
    "            unroll=False,\n",
    "        )\n",
    "    )\n",
    "    model.add(Dense(vocabulary_length, activation=\"softmax\"))\n",
    "    return model"
   ]
  },
  {
   "cell_type": "code",
   "execution_count": 30,
   "metadata": {
    "id": "TUvmZGtRfhrV"
   },
   "outputs": [],
   "source": [
    "model = GRU_model()"
   ]
  },
  {
   "cell_type": "code",
   "execution_count": 31,
   "metadata": {
    "colab": {
     "base_uri": "https://localhost:8080/"
    },
    "id": "iQf3MyZNpOKd",
    "outputId": "42faad94-8c79-4acc-c192-22206a4eb87d"
   },
   "outputs": [
    {
     "name": "stdout",
     "output_type": "stream",
     "text": [
      "Model: \"sequential\"\n",
      "_________________________________________________________________\n",
      " Layer (type)                Output Shape              Param #   \n",
      "=================================================================\n",
      " embedding (Embedding)       (None, 50, 50)            699200    \n",
      "                                                                 \n",
      " gru (GRU)                   (None, 128)               69120     \n",
      "                                                                 \n",
      " dense (Dense)               (None, 13984)             1803936   \n",
      "                                                                 \n",
      "=================================================================\n",
      "Total params: 2,572,256\n",
      "Trainable params: 2,572,256\n",
      "Non-trainable params: 0\n",
      "_________________________________________________________________\n"
     ]
    }
   ],
   "source": [
    "model.summary()"
   ]
  },
  {
   "cell_type": "code",
   "execution_count": 32,
   "metadata": {
    "id": "qbg67EgmpOKd"
   },
   "outputs": [],
   "source": [
    "model.compile(loss=\"categorical_crossentropy\", optimizer=\"adam\", metrics=[\"accuracy\"])"
   ]
  },
  {
   "cell_type": "markdown",
   "metadata": {
    "id": "h1f-jjZBpOKd"
   },
   "source": [
    "# Train"
   ]
  },
  {
   "cell_type": "code",
   "execution_count": 33,
   "metadata": {
    "colab": {
     "base_uri": "https://localhost:8080/"
    },
    "id": "n2dESXa-pOKd",
    "outputId": "26752872-e13a-423c-89b6-ebc6d1722d09"
   },
   "outputs": [
    {
     "name": "stdout",
     "output_type": "stream",
     "text": [
      "Epoch 1/100\n",
      "2500/2500 [==============================] - 29s 10ms/step - loss: 6.7765 - accuracy: 0.0473\n",
      "Epoch 2/100\n",
      "2500/2500 [==============================] - 25s 10ms/step - loss: 6.1642 - accuracy: 0.0826\n",
      "Epoch 3/100\n",
      "2500/2500 [==============================] - 25s 10ms/step - loss: 5.8198 - accuracy: 0.1020\n",
      "Epoch 4/100\n",
      "2500/2500 [==============================] - 25s 10ms/step - loss: 5.5197 - accuracy: 0.1124\n",
      "Epoch 5/100\n",
      "2500/2500 [==============================] - 25s 10ms/step - loss: 5.2489 - accuracy: 0.1220\n",
      "Epoch 6/100\n",
      "2500/2500 [==============================] - 25s 10ms/step - loss: 5.0111 - accuracy: 0.1328\n",
      "Epoch 7/100\n",
      "2500/2500 [==============================] - 25s 10ms/step - loss: 4.7961 - accuracy: 0.1455\n",
      "Epoch 8/100\n",
      "2500/2500 [==============================] - 25s 10ms/step - loss: 4.6113 - accuracy: 0.1608\n",
      "Epoch 9/100\n",
      "2500/2500 [==============================] - 25s 10ms/step - loss: 4.4401 - accuracy: 0.1774\n",
      "Epoch 10/100\n",
      "2500/2500 [==============================] - 25s 10ms/step - loss: 4.2916 - accuracy: 0.1953\n",
      "Epoch 11/100\n",
      "2500/2500 [==============================] - 25s 10ms/step - loss: 4.1597 - accuracy: 0.2104\n",
      "Epoch 12/100\n",
      "2500/2500 [==============================] - 25s 10ms/step - loss: 4.0431 - accuracy: 0.2252\n",
      "Epoch 13/100\n",
      "2500/2500 [==============================] - 25s 10ms/step - loss: 3.9424 - accuracy: 0.2381\n",
      "Epoch 14/100\n",
      "2500/2500 [==============================] - 25s 10ms/step - loss: 3.8510 - accuracy: 0.2505\n",
      "Epoch 15/100\n",
      "2500/2500 [==============================] - 25s 10ms/step - loss: 3.7719 - accuracy: 0.2622\n",
      "Epoch 16/100\n",
      "2500/2500 [==============================] - 25s 10ms/step - loss: 3.7039 - accuracy: 0.2708\n",
      "Epoch 17/100\n",
      "2500/2500 [==============================] - 25s 10ms/step - loss: 3.6403 - accuracy: 0.2791\n",
      "Epoch 18/100\n",
      "2500/2500 [==============================] - 25s 10ms/step - loss: 3.5781 - accuracy: 0.2874\n",
      "Epoch 19/100\n",
      "2500/2500 [==============================] - 25s 10ms/step - loss: 3.5263 - accuracy: 0.2946\n",
      "Epoch 20/100\n",
      "2500/2500 [==============================] - 25s 10ms/step - loss: 3.4798 - accuracy: 0.3004\n",
      "Epoch 21/100\n",
      "2500/2500 [==============================] - 25s 10ms/step - loss: 3.4333 - accuracy: 0.3069\n",
      "Epoch 22/100\n",
      "2500/2500 [==============================] - 25s 10ms/step - loss: 3.3953 - accuracy: 0.3126\n",
      "Epoch 23/100\n",
      "2500/2500 [==============================] - 25s 10ms/step - loss: 3.3575 - accuracy: 0.3171\n",
      "Epoch 24/100\n",
      "2500/2500 [==============================] - 25s 10ms/step - loss: 3.3199 - accuracy: 0.3227\n",
      "Epoch 25/100\n",
      "2500/2500 [==============================] - 25s 10ms/step - loss: 3.2897 - accuracy: 0.3267\n",
      "Epoch 26/100\n",
      "2500/2500 [==============================] - 25s 10ms/step - loss: 3.2594 - accuracy: 0.3311\n",
      "Epoch 27/100\n",
      "2500/2500 [==============================] - 25s 10ms/step - loss: 3.2330 - accuracy: 0.3344\n",
      "Epoch 28/100\n",
      "2500/2500 [==============================] - 25s 10ms/step - loss: 3.2047 - accuracy: 0.3385\n",
      "Epoch 29/100\n",
      "2500/2500 [==============================] - 25s 10ms/step - loss: 3.1771 - accuracy: 0.3432\n",
      "Epoch 30/100\n",
      "2500/2500 [==============================] - 25s 10ms/step - loss: 3.1511 - accuracy: 0.3467\n",
      "Epoch 31/100\n",
      "2500/2500 [==============================] - 25s 10ms/step - loss: 3.1309 - accuracy: 0.3485\n",
      "Epoch 32/100\n",
      "2500/2500 [==============================] - 25s 10ms/step - loss: 3.1071 - accuracy: 0.3525\n",
      "Epoch 33/100\n",
      "2500/2500 [==============================] - 25s 10ms/step - loss: 3.0835 - accuracy: 0.3561\n",
      "Epoch 34/100\n",
      "2500/2500 [==============================] - 25s 10ms/step - loss: 3.0690 - accuracy: 0.3577\n",
      "Epoch 35/100\n",
      "2500/2500 [==============================] - 25s 10ms/step - loss: 3.0445 - accuracy: 0.3605\n",
      "Epoch 36/100\n",
      "2500/2500 [==============================] - 25s 10ms/step - loss: 3.0332 - accuracy: 0.3626\n",
      "Epoch 37/100\n",
      "2500/2500 [==============================] - 25s 10ms/step - loss: 3.0174 - accuracy: 0.3648\n",
      "Epoch 38/100\n",
      "2500/2500 [==============================] - 25s 10ms/step - loss: 2.9975 - accuracy: 0.3668\n",
      "Epoch 39/100\n",
      "2500/2500 [==============================] - 25s 10ms/step - loss: 2.9788 - accuracy: 0.3698\n",
      "Epoch 40/100\n",
      "2500/2500 [==============================] - 25s 10ms/step - loss: 2.9641 - accuracy: 0.3717\n",
      "Epoch 41/100\n",
      "2500/2500 [==============================] - 25s 10ms/step - loss: 2.9491 - accuracy: 0.3742\n",
      "Epoch 42/100\n",
      "2500/2500 [==============================] - 25s 10ms/step - loss: 2.9372 - accuracy: 0.3756\n",
      "Epoch 43/100\n",
      "2500/2500 [==============================] - 25s 10ms/step - loss: 2.9224 - accuracy: 0.3777\n",
      "Epoch 44/100\n",
      "2500/2500 [==============================] - 25s 10ms/step - loss: 2.9056 - accuracy: 0.3798\n",
      "Epoch 45/100\n",
      "2500/2500 [==============================] - 25s 10ms/step - loss: 2.8941 - accuracy: 0.3814\n",
      "Epoch 46/100\n",
      "2500/2500 [==============================] - 25s 10ms/step - loss: 2.8851 - accuracy: 0.3834\n",
      "Epoch 47/100\n",
      "2500/2500 [==============================] - 25s 10ms/step - loss: 2.8706 - accuracy: 0.3832\n",
      "Epoch 48/100\n",
      "2500/2500 [==============================] - 25s 10ms/step - loss: 2.8607 - accuracy: 0.3865\n",
      "Epoch 49/100\n",
      "2500/2500 [==============================] - 25s 10ms/step - loss: 2.8471 - accuracy: 0.3880\n",
      "Epoch 50/100\n",
      "2500/2500 [==============================] - 25s 10ms/step - loss: 2.8402 - accuracy: 0.3885\n",
      "Epoch 51/100\n",
      "2500/2500 [==============================] - 25s 10ms/step - loss: 2.8267 - accuracy: 0.3906\n",
      "Epoch 52/100\n",
      "2500/2500 [==============================] - 25s 10ms/step - loss: 2.8143 - accuracy: 0.3927\n",
      "Epoch 53/100\n",
      "2500/2500 [==============================] - 25s 10ms/step - loss: 2.8043 - accuracy: 0.3933\n",
      "Epoch 54/100\n",
      "2500/2500 [==============================] - 25s 10ms/step - loss: 2.7991 - accuracy: 0.3949\n",
      "Epoch 55/100\n",
      "2500/2500 [==============================] - 25s 10ms/step - loss: 2.7854 - accuracy: 0.3958\n",
      "Epoch 56/100\n",
      "2500/2500 [==============================] - 25s 10ms/step - loss: 2.7758 - accuracy: 0.3984\n",
      "Epoch 57/100\n",
      "2500/2500 [==============================] - 25s 10ms/step - loss: 2.7680 - accuracy: 0.3999\n",
      "Epoch 58/100\n",
      "2500/2500 [==============================] - 25s 10ms/step - loss: 2.7549 - accuracy: 0.4007\n",
      "Epoch 59/100\n",
      "2500/2500 [==============================] - 25s 10ms/step - loss: 2.7492 - accuracy: 0.4015\n",
      "Epoch 60/100\n",
      "2500/2500 [==============================] - 25s 10ms/step - loss: 2.7389 - accuracy: 0.4033\n",
      "Epoch 61/100\n",
      "2500/2500 [==============================] - 24s 10ms/step - loss: 2.7304 - accuracy: 0.4048\n",
      "Epoch 62/100\n",
      "2500/2500 [==============================] - 25s 10ms/step - loss: 2.7256 - accuracy: 0.4045\n",
      "Epoch 63/100\n",
      "2500/2500 [==============================] - 25s 10ms/step - loss: 2.7157 - accuracy: 0.4069\n",
      "Epoch 64/100\n",
      "2500/2500 [==============================] - 25s 10ms/step - loss: 2.7116 - accuracy: 0.4073\n",
      "Epoch 65/100\n",
      "2500/2500 [==============================] - 25s 10ms/step - loss: 2.7017 - accuracy: 0.4079\n",
      "Epoch 66/100\n",
      "2500/2500 [==============================] - 25s 10ms/step - loss: 2.6939 - accuracy: 0.4095\n",
      "Epoch 67/100\n",
      "2500/2500 [==============================] - 25s 10ms/step - loss: 2.6856 - accuracy: 0.4115\n",
      "Epoch 68/100\n",
      "2500/2500 [==============================] - 25s 10ms/step - loss: 2.6790 - accuracy: 0.4118\n",
      "Epoch 69/100\n",
      "2500/2500 [==============================] - 25s 10ms/step - loss: 2.6723 - accuracy: 0.4127\n",
      "Epoch 70/100\n",
      "2500/2500 [==============================] - 25s 10ms/step - loss: 2.6657 - accuracy: 0.4139\n",
      "Epoch 71/100\n",
      "2500/2500 [==============================] - 25s 10ms/step - loss: 2.6597 - accuracy: 0.4164\n",
      "Epoch 72/100\n",
      "2500/2500 [==============================] - 25s 10ms/step - loss: 2.6528 - accuracy: 0.4152\n",
      "Epoch 73/100\n",
      "2500/2500 [==============================] - 25s 10ms/step - loss: 2.6458 - accuracy: 0.4163\n",
      "Epoch 74/100\n",
      "2500/2500 [==============================] - 25s 10ms/step - loss: 2.6365 - accuracy: 0.4185\n",
      "Epoch 75/100\n",
      "2500/2500 [==============================] - 25s 10ms/step - loss: 2.6324 - accuracy: 0.4192\n",
      "Epoch 76/100\n",
      "2500/2500 [==============================] - 25s 10ms/step - loss: 2.6271 - accuracy: 0.4190\n",
      "Epoch 77/100\n",
      "2500/2500 [==============================] - 25s 10ms/step - loss: 2.6221 - accuracy: 0.4192\n",
      "Epoch 78/100\n",
      "2500/2500 [==============================] - 25s 10ms/step - loss: 2.6147 - accuracy: 0.4213\n",
      "Epoch 79/100\n",
      "2500/2500 [==============================] - 25s 10ms/step - loss: 2.6064 - accuracy: 0.4226\n",
      "Epoch 80/100\n",
      "2500/2500 [==============================] - 25s 10ms/step - loss: 2.6055 - accuracy: 0.4221\n",
      "Epoch 81/100\n",
      "2500/2500 [==============================] - 25s 10ms/step - loss: 2.5970 - accuracy: 0.4236\n",
      "Epoch 82/100\n",
      "2500/2500 [==============================] - 25s 10ms/step - loss: 2.5931 - accuracy: 0.4237\n",
      "Epoch 83/100\n",
      "2500/2500 [==============================] - 25s 10ms/step - loss: 2.5872 - accuracy: 0.4246\n",
      "Epoch 84/100\n",
      "2500/2500 [==============================] - 25s 10ms/step - loss: 2.5833 - accuracy: 0.4260\n",
      "Epoch 85/100\n",
      "2500/2500 [==============================] - 25s 10ms/step - loss: 2.5763 - accuracy: 0.4262\n",
      "Epoch 86/100\n",
      "2500/2500 [==============================] - 25s 10ms/step - loss: 2.5695 - accuracy: 0.4277\n",
      "Epoch 87/100\n",
      "2500/2500 [==============================] - 25s 10ms/step - loss: 2.5656 - accuracy: 0.4279\n",
      "Epoch 88/100\n",
      "2500/2500 [==============================] - 25s 10ms/step - loss: 2.5589 - accuracy: 0.4286\n",
      "Epoch 89/100\n",
      "2500/2500 [==============================] - 25s 10ms/step - loss: 2.5559 - accuracy: 0.4288\n",
      "Epoch 90/100\n",
      "2500/2500 [==============================] - 25s 10ms/step - loss: 2.5495 - accuracy: 0.4300\n",
      "Epoch 91/100\n",
      "2500/2500 [==============================] - 25s 10ms/step - loss: 2.5494 - accuracy: 0.4290\n",
      "Epoch 92/100\n",
      "2500/2500 [==============================] - 25s 10ms/step - loss: 2.5434 - accuracy: 0.4317\n",
      "Epoch 93/100\n",
      "2500/2500 [==============================] - 25s 10ms/step - loss: 2.5352 - accuracy: 0.4322\n",
      "Epoch 94/100\n",
      "2500/2500 [==============================] - 25s 10ms/step - loss: 2.5368 - accuracy: 0.4320\n",
      "Epoch 95/100\n",
      "2500/2500 [==============================] - 25s 10ms/step - loss: 2.5289 - accuracy: 0.4326\n",
      "Epoch 96/100\n",
      "2500/2500 [==============================] - 25s 10ms/step - loss: 2.5210 - accuracy: 0.4341\n",
      "Epoch 97/100\n",
      "2500/2500 [==============================] - 25s 10ms/step - loss: 2.5195 - accuracy: 0.4343\n",
      "Epoch 98/100\n",
      "2500/2500 [==============================] - 25s 10ms/step - loss: 2.5131 - accuracy: 0.4358\n",
      "Epoch 99/100\n",
      "2500/2500 [==============================] - 25s 10ms/step - loss: 2.5119 - accuracy: 0.4354\n",
      "Epoch 100/100\n",
      "2500/2500 [==============================] - 25s 10ms/step - loss: 2.5055 - accuracy: 0.4359\n"
     ]
    }
   ],
   "source": [
    "history = model.fit(X_train, Y_train, batch_size=64, epochs=100)"
   ]
  },
  {
   "cell_type": "code",
   "execution_count": 34,
   "metadata": {
    "id": "vWk4TBdNL5SR"
   },
   "outputs": [],
   "source": [
    "def calc_perplexity():\n",
    "    train_loss = history.history[\"loss\"]\n",
    "    train_perplexity = tf.exp(train_loss)\n",
    "    return train_perplexity"
   ]
  },
  {
   "cell_type": "code",
   "execution_count": 35,
   "metadata": {
    "id": "52rDMkmzL9e5"
   },
   "outputs": [],
   "source": [
    "def plot_metrics():\n",
    "    plt.plot(history.history[\"loss\"])\n",
    "    plt.xlabel(\"Epochs\")\n",
    "    plt.ylabel(\"Loss\")\n",
    "    plt.legend([\"loss\"])"
   ]
  },
  {
   "cell_type": "code",
   "execution_count": 36,
   "metadata": {
    "colab": {
     "base_uri": "https://localhost:8080/",
     "height": 279
    },
    "id": "lNN8BcgGM2zw",
    "outputId": "4a9d0082-4ac7-46f6-c0d5-675fe2c04798"
   },
   "outputs": [
    {
     "data": {
      "image/png": "[encoded data removed]",
      "text/plain": [
       "<Figure size 432x288 with 1 Axes>"
      ]
     },
     "metadata": {
      "needs_background": "light"
     },
     "output_type": "display_data"
    }
   ],
   "source": [
    "plot_metrics()"
   ]
  },
  {
   "cell_type": "code",
   "execution_count": 37,
   "metadata": {
    "colab": {
     "base_uri": "https://localhost:8080/",
     "height": 296
    },
    "id": "1WOAwwM1fcL9",
    "outputId": "492ff713-81f1-4ff9-aaf7-7f9f237a311d"
   },
   "outputs": [
    {
     "data": {
      "text/plain": [
       "<matplotlib.legend.Legend at 0x7f1916280c90>"
      ]
     },
     "execution_count": 37,
     "metadata": {},
     "output_type": "execute_result"
    },
    {
     "data": {
      "image/png": "[encoded data removed]",
      "text/plain": [
       "<Figure size 432x288 with 1 Axes>"
      ]
     },
     "metadata": {
      "needs_background": "light"
     },
     "output_type": "display_data"
    }
   ],
   "source": [
    "train_perplexity = calc_perplexity()\n",
    "plt.plot(train_perplexity)\n",
    "plt.xlabel(\"Epochs\")\n",
    "plt.ylabel(\"Perplexitiy\")\n",
    "plt.legend([\"perplexity\"])"
   ]
  },
  {
   "cell_type": "code",
   "execution_count": 38,
   "metadata": {
    "colab": {
     "base_uri": "https://localhost:8080/"
    },
    "id": "FvzfVvNMf03S",
    "outputId": "0f7dbe51-aee2-455b-e7d2-0c694d996e06"
   },
   "outputs": [
    {
     "data": {
      "text/plain": [
       "(876.9841, 12.249737)"
      ]
     },
     "execution_count": 38,
     "metadata": {},
     "output_type": "execute_result"
    }
   ],
   "source": [
    "np.max(train_perplexity), np.min(train_perplexity)"
   ]
  },
  {
   "cell_type": "markdown",
   "metadata": {
    "id": "9CHwVxvwgyA6"
   },
   "source": [
    "## Text Generation\n"
   ]
  },
  {
   "cell_type": "code",
   "execution_count": 39,
   "metadata": {
    "id": "RhI7Wq4TYz8C"
   },
   "outputs": [],
   "source": [
    "seed = lines[12343]"
   ]
  },
  {
   "cell_type": "code",
   "execution_count": 40,
   "metadata": {
    "colab": {
     "base_uri": "https://localhost:8080/"
    },
    "id": "Uotr7odKna41",
    "outputId": "c52d95b9-6352-428d-f077-1cffde0e5ff3"
   },
   "outputs": [
    {
     "name": "stdout",
     "output_type": "stream",
     "text": [
      "strength of all thy state but do not so i love thee in such sort as thou being mine mine is thy good report how like a winter hath my absence been from thee the pleasure of the fleeting year what freezings have i felt what dark days seen what old\n"
     ]
    }
   ],
   "source": [
    "print(seed)"
   ]
  },
  {
   "cell_type": "code",
   "execution_count": 41,
   "metadata": {
    "id": "6R0M9ngkS0oZ"
   },
   "outputs": [],
   "source": [
    "def generate_text(model, tokenizer, seed_sequence_length, seed_text, n_words):\n",
    "    text = []\n",
    "\n",
    "    for _ in range(n_words):\n",
    "        encoded = tokenizer.texts_to_sequences([seed_text])[0]\n",
    "        encoded = pad_sequences(\n",
    "            [encoded], maxlen=seed_sequence_length, truncating=\"pre\"\n",
    "        )\n",
    "\n",
    "        y_predict = model.predict(encoded)\n",
    "        y_predict = y_predict.argmax(axis=1)\n",
    "\n",
    "        predicted_word = \"\"\n",
    "        for word, index in tokenizer.word_index.items():\n",
    "\n",
    "            if index == y_predict:\n",
    "                predicted_word = word\n",
    "                break\n",
    "        seed_text = seed_text + \" \" + predicted_word\n",
    "        text.append(predicted_word)\n",
    "    return \" \".join(text)"
   ]
  },
  {
   "cell_type": "code",
   "execution_count": 42,
   "metadata": {
    "colab": {
     "base_uri": "https://localhost:8080/",
     "height": 52
    },
    "id": "a7vre0JUXnxK",
    "outputId": "f713d6a3-d677-40b5-ff52-5062b635a722"
   },
   "outputs": [
    {
     "data": {
      "application/vnd.google.colaboratory.intrinsic+json": {
       "type": "string"
      },
      "text/plain": [
       "'decembers bareness everywhere and medromio of ephesus i could not die a food to see the world i am weary sir i am not so far i am a strumpet in my mind no more with them i will not say you speak to me with me and so am i born and am right glad nor i have been by day and in their means as i guess at their power i th truth of it i should not say you should not find me not in the aid i suffer not here i dare not till i know'"
      ]
     },
     "execution_count": 42,
     "metadata": {},
     "output_type": "execute_result"
    }
   ],
   "source": [
    "generate_text(model, tokenizer, seed_sequence_length, seed, 100)"
   ]
  }
 ],
 "metadata": {
  "accelerator": "GPU",
  "colab": {
   "collapsed_sections": [],
   "machine_shape": "hm",
   "name": "Shakespeare_text_generator_using_GRU.ipynb",
   "provenance": []
  },
  "kernelspec": {
   "display_name": "Python 3",
   "language": "python",
   "name": "python3"
  },
  "language_info": {
   "codemirror_mode": {
    "name": "ipython",
    "version": 3
   },
   "file_extension": ".py",
   "mimetype": "text/x-python",
   "name": "python",
   "nbconvert_exporter": "python",
   "pygments_lexer": "ipython3",
   "version": "3.8.3"
  }
 },
 "nbformat": 4,
 "nbformat_minor": 1
}
